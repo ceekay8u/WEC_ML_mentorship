{
 "cells": [
  {
   "cell_type": "code",
   "execution_count": 84,
   "metadata": {
    "collapsed": true
   },
   "outputs": [],
   "source": [
    "import pandas as pd\n",
    "import numpy as np"
   ]
  },
  {
   "cell_type": "code",
   "execution_count": 83,
   "metadata": {},
   "outputs": [],
   "source": [
    "df_train=pd.read_csv(\"train.csv\")"
   ]
  },
  {
   "cell_type": "code",
   "execution_count": 47,
   "metadata": {},
   "outputs": [
    {
     "name": "stdout",
     "output_type": "stream",
     "text": [
      "Pclass\n",
      "1    0.629630\n",
      "2    0.472826\n",
      "3    0.242363\n",
      "Name: Survived, dtype: float64\n"
     ]
    }
   ],
   "source": [
    "# QUESTION 1\n",
    "grouped=df_train.groupby('Pclass')\n",
    "##print(grouped.agg(np.size))\n",
    "\n",
    "num_survived=grouped['Survived'].agg(np.sum)\n",
    "num_people=grouped['Survived'].agg(np.size)\n",
    "print(num_survived/num_people)"
   ]
  },
  {
   "cell_type": "code",
   "execution_count": 48,
   "metadata": {},
   "outputs": [
    {
     "name": "stdout",
     "output_type": "stream",
     "text": [
      "     PassengerId  Survived  Pclass                                Name  \\\n",
      "258          259         1       1                    Ward, Miss. Anna   \n",
      "737          738         1       1              Lesurer, Mr. Gustave J   \n",
      "679          680         1       1  Cardeza, Mr. Thomas Drake Martinez   \n",
      "88            89         1       1          Fortune, Miss. Mabel Helen   \n",
      "27            28         0       1      Fortune, Mr. Charles Alexander   \n",
      "\n",
      "        Sex   Age  SibSp  Parch    Ticket      Fare        Cabin Embarked  \n",
      "258  female  35.0      0      0  PC 17755  512.3292          NaN        C  \n",
      "737    male  35.0      0      0  PC 17755  512.3292         B101        C  \n",
      "679    male  36.0      0      1  PC 17755  512.3292  B51 B53 B55        C  \n",
      "88   female  23.0      3      2     19950  263.0000  C23 C25 C27        S  \n",
      "27     male  19.0      3      2     19950  263.0000  C23 C25 C27        S  \n"
     ]
    }
   ],
   "source": [
    "# QUESTION 2 \n",
    "fare=df_train.sort_values(by='Fare',ascending =False)\n",
    "print(fare.head())"
   ]
  },
  {
   "cell_type": "code",
   "execution_count": 50,
   "metadata": {},
   "outputs": [
    {
     "name": "stdout",
     "output_type": "stream",
     "text": [
      "PassengerId      0\n",
      "Survived         0\n",
      "Pclass           0\n",
      "Name             0\n",
      "Sex              0\n",
      "Age            177\n",
      "SibSp            0\n",
      "Parch            0\n",
      "Ticket           0\n",
      "Fare             0\n",
      "Cabin          687\n",
      "Embarked         2\n",
      "dtype: int64\n"
     ]
    }
   ],
   "source": [
    "# QUESTION 3\n",
    "print(df_train.isnull().sum())"
   ]
  },
  {
   "cell_type": "code",
   "execution_count": 52,
   "metadata": {},
   "outputs": [
    {
     "name": "stdout",
     "output_type": "stream",
     "text": [
      "PassengerId      0\n",
      "Survived         0\n",
      "Pclass           0\n",
      "Name             0\n",
      "Sex              0\n",
      "Age              0\n",
      "SibSp            0\n",
      "Parch            0\n",
      "Ticket           0\n",
      "Fare             0\n",
      "Cabin          687\n",
      "Embarked         2\n",
      "dtype: int64\n"
     ]
    }
   ],
   "source": [
    "# QUESTION 4 \n",
    "df_train['Age'].fillna(df_train['Age'].median,inplace=True)\n",
    "print(df_train.isnull().sum())"
   ]
  },
  {
   "cell_type": "code",
   "execution_count": 187,
   "metadata": {},
   "outputs": [
    {
     "name": "stdout",
     "output_type": "stream",
     "text": [
      "     PassengerId  Survived  Pclass                            Name   Sex  \\\n",
      "33            34         0       2           Wheadon, Mr. Edward H  male   \n",
      "54            55         0       1  Ostby, Mr. Engelhart Cornelius  male   \n",
      "96            97         0       1       Goldschmidt, Mr. George B  male   \n",
      "116          117         0       3            Connors, Mr. Patrick  male   \n",
      "170          171         0       1       Van der hoef, Mr. Wyckoff  male   \n",
      "\n",
      "      Age  SibSp  Parch      Ticket     Fare Cabin Embarked Title  \n",
      "33   66.0      0      0  C.A. 24579  10.5000   NaN        S    Mr  \n",
      "54   65.0      0      1      113509  61.9792   B30        C    Mr  \n",
      "96   71.0      0      0    PC 17754  34.6542    A5        C    Mr  \n",
      "116  70.5      0      0      370369   7.7500   NaN        Q    Mr  \n",
      "170  61.0      0      0      111240  33.5000   B19        S    Mr  \n"
     ]
    }
   ],
   "source": [
    "# QUESTION 5\n",
    "df = pd.DataFrame(columns = df_train.columns)\n",
    "\n",
    "df = df_train[(df_train.Age > 60)]\n",
    "df=df.sort_values(by ='PassengerId')\n",
    "print (df.head())"
   ]
  },
  {
   "cell_type": "code",
   "execution_count": 86,
   "metadata": {},
   "outputs": [
    {
     "name": "stdout",
     "output_type": "stream",
     "text": [
      "                       mean        std\n",
      "Pclass Embarked                       \n",
      "1      C         104.718529  99.093935\n",
      "       Q          90.000000   0.000000\n",
      "       S          70.364862  58.811278\n",
      "2      C          25.358335  11.345067\n",
      "       Q          12.350000   0.000000\n",
      "       S          20.327439  13.630741\n",
      "3      C          11.214083   4.871528\n",
      "       Q          11.183393   6.721677\n",
      "       S          14.644083  13.276609\n"
     ]
    }
   ],
   "source": [
    "# QUESTION 6\n",
    "group = df_train.groupby(['Pclass', 'Embarked'])\n",
    "print (group['Fare'].agg([np.mean, np.std]))\n"
   ]
  },
  {
   "cell_type": "code",
   "execution_count": 140,
   "metadata": {},
   "outputs": [
    {
     "name": "stdout",
     "output_type": "stream",
     "text": [
      "['Mr' 'Mrs' 'Miss' 'Master' 'Don' 'Rev' 'Dr' 'Mme' 'Ms' 'Major' 'Lady'\n",
      " 'Sir' 'Mlle' 'Col' 'Capt' 'Countess' 'Jonkheer']\n"
     ]
    }
   ],
   "source": [
    "#QUESTION 7\n",
    "titles= df_train.Name.str.extract(' ([A-Za-z]+)\\.', expand=False)\n",
    "print(titles.unique())\n"
   ]
  },
  {
   "cell_type": "code",
   "execution_count": 197,
   "metadata": {},
   "outputs": [
    {
     "name": "stdout",
     "output_type": "stream",
     "text": [
      "Title\n",
      "Capt        0.002924\n",
      "Col         0.005848\n",
      "Countess    0.002924\n",
      "Don         0.002924\n",
      "Dr          0.020468\n",
      "Jonkheer    0.002924\n",
      "Lady        0.002924\n",
      "Major       0.005848\n",
      "Master      0.116959\n",
      "Miss        0.532164\n",
      "Mlle        0.005848\n",
      "Mme         0.002924\n",
      "Mr          1.511696\n",
      "Mrs         0.365497\n",
      "Ms          0.002924\n",
      "Rev         0.017544\n",
      "Sir         0.002924\n",
      "Name: Title, dtype: float64\n"
     ]
    }
   ],
   "source": [
    "#QUESTION 8\n",
    "df=pd.DataFrame(columns=['Survival rate','Title'])\n",
    "df['Title']=titles\n",
    "df1=df.groupby('Title')\n",
    "k=df1['Title'].agg(np.size)\n",
    "\n",
    "l=df_train['Survived'].agg(np.sum)\n",
    "print(k/l)\n"
   ]
  },
  {
   "cell_type": "code",
   "execution_count": 139,
   "metadata": {},
   "outputs": [
    {
     "name": "stdout",
     "output_type": "stream",
     "text": [
      "['Mr' 'Mrs' 'Miss' 'Master' 'Don' 'Rev' 'Dr' 'Mme' 'Ms' 'Major' 'Lady'\n",
      " 'Sir' 'Mlle' 'Col' 'Capt' 'Countess' 'Jonkheer']\n"
     ]
    }
   ],
   "source": [
    "#QUESTION 9\n",
    "print(titles.unique())"
   ]
  },
  {
   "cell_type": "code",
   "execution_count": null,
   "metadata": {
    "collapsed": true
   },
   "outputs": [],
   "source": []
  }
 ],
 "metadata": {
  "kernelspec": {
   "display_name": "Python 3",
   "language": "python",
   "name": "python3"
  },
  "language_info": {
   "codemirror_mode": {
    "name": "ipython",
    "version": 3
   },
   "file_extension": ".py",
   "mimetype": "text/x-python",
   "name": "python",
   "nbconvert_exporter": "python",
   "pygments_lexer": "ipython3",
   "version": "3.6.3"
  }
 },
 "nbformat": 4,
 "nbformat_minor": 2
}
