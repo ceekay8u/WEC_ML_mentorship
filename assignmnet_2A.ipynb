{
 "cells": [
  {
   "cell_type": "code",
   "execution_count": 1,
   "metadata": {
    "collapsed": true
   },
   "outputs": [],
   "source": [
    "import numpy as np\n",
    "\"\"\"Link to the numpy docs: https://docs.scipy.org/doc/numpy-1.13.0/reference/\"\"\""
   ]
  },
  {
   "cell_type": "markdown",
   "metadata": {},
   "source": [
    "Lets solve a few basic numpy problems"
   ]
  },
  {
   "cell_type": "code",
   "execution_count": 4,
   "metadata": {
    "collapsed": true
   },
   "outputs": [],
   "source": [
    "def get_range(start, end, step):\n",
    "    \"\"\"Return an array of given range with specific step\"\"\"\n",
    "    #initialize array\n",
    "    \n",
    "    #define the function to assign the elements\n",
    "    arr=np.arange(start,end,step)\n",
    "    #return the array\n",
    "    return(arr)"
   ]
  },
  {
   "cell_type": "code",
   "execution_count": 5,
   "metadata": {
    "collapsed": true
   },
   "outputs": [],
   "source": [
    "def new_shape(old_array, new_shape):\n",
    "    \"\"\"Return an array of given shape\"\"\"\n",
    "    #check if array can be reshaped to given dimensions\n",
    "    \n",
    "    #define the function to reshape the array\n",
    "    new_array=old_array.reshape(new_shape)\n",
    "    #return the array\n",
    "    return(new_array)"
   ]
  },
  {
   "cell_type": "code",
   "execution_count": 6,
   "metadata": {
    "collapsed": true
   },
   "outputs": [],
   "source": [
    "def reverse_array(old_array):\n",
    "    \"\"\"Return the reversed array\"\"\"\n",
    "    #initialize array\n",
    "    new_arr=np.flip(old_array,0)\n",
    "    #define function to reverse array\n",
    "    \n",
    "    #return the array\n",
    "    return(new_arr)"
   ]
  },
  {
   "cell_type": "code",
   "execution_count": 7,
   "metadata": {
    "collapsed": true
   },
   "outputs": [],
   "source": [
    "def stack_lists(lists):\n",
    "    \"\"\"Return an array containing lists stacked horizontally\"\"\"\n",
    "    #initialize array\n",
    "    \n",
    "    #define function to return array with stacked lists given whether arrays to be stacked horizontally or vertically\n",
    "    stacked = np.hstack(lists)\n",
    "    #return the array\n",
    "    return(stacked)"
   ]
  },
  {
   "cell_type": "code",
   "execution_count": 8,
   "metadata": {
    "collapsed": true
   },
   "outputs": [],
   "source": [
    "def get_trignometric_values(angles):\n",
    "    \"\"\"Return an array containing sine, cosine and tangent values of the given angle stacked horizontally\"\"\"\n",
    "    #initialize array\n",
    "    \n",
    "    #define sine function\n",
    "    sin_arr=np.sin(angles)\n",
    "    #define cosine function\n",
    "    cos_arr=np.cos(angles)\n",
    "    #define tangent function\n",
    "    tan_arr=np.tan(angles)\n",
    "    #define function to return array with stacked lists\n",
    "    stacked_arr=np.stack((sin_arr,cos_arr,tan_arr))\n",
    "    #return the array\n",
    "    return(stacked_arr)"
   ]
  },
  {
   "cell_type": "code",
   "execution_count": 9,
   "metadata": {
    "collapsed": true
   },
   "outputs": [],
   "source": [
    "def invert_array(array):\n",
    "    \"\"\"Return the pseudo inverse of the given array; read more about pseudo inverse at: \n",
    "    https://en.wikipedia.org/wiki/Moore%E2%80%93Penrose_inverse\"\"\"\n",
    "    #define function to invert array\n",
    "    inverted_arr = np.linalg.pinv(array)\n",
    "    #return the array\n",
    "    return(inverted_arr)"
   ]
  },
  {
   "cell_type": "code",
   "execution_count": 11,
   "metadata": {
    "collapsed": true
   },
   "outputs": [],
   "source": [
    "def flatten_array(array):\n",
    "    \"\"\"Return the flattened array\"\"\"\n",
    "    #define function to flatten array\n",
    "    flattened_arr=np.ndarray.flatten(array)\n",
    "    #return the array\n",
    "    return(flattened_arr)"
   ]
  },
  {
   "cell_type": "code",
   "execution_count": 12,
   "metadata": {
    "collapsed": true
   },
   "outputs": [],
   "source": [
    "def add_noise(array, mean, std):\n",
    "    \"\"\"Add gaussian noise with given mean and standard deviation; read more about the normal distribution at:\n",
    "    https://en.wikipedia.org/wiki/Normal_distribution\"\"\"\n",
    "    #define function to add noise with the given mean and standard deviation\n",
    "    noise_arr = np.random.noise(mean, std, array.size)\n",
    "    #return the array\n",
    "    return(noise_arr)"
   ]
  },
  {
   "cell_type": "code",
   "execution_count": 13,
   "metadata": {
    "collapsed": true
   },
   "outputs": [],
   "source": [
    "def expand_array(array, axis):\n",
    "    \"\"\"Return an array expanded along the column\"\"\"\n",
    "    #define function to expand array\n",
    "     expanded_arr = np.expand_dims(array, axis)\n",
    "    #return the array\n",
    "    return(expanded_arr)"
   ]
  },
  {
   "cell_type": "code",
   "execution_count": 14,
   "metadata": {
    "collapsed": true
   },
   "outputs": [],
   "source": [
    "def sigmoid_fn(array):\n",
    "    \"\"\"Return an array with the sigmoid values\"\"\"\n",
    "    #define sigmoid function \n",
    "    sigmoid_arr=1/((np.exp(-array))+1)\n",
    "    #return the array\n",
    "    return(sigmoid_arr)"
   ]
  },
  {
   "cell_type": "code",
   "execution_count": 15,
   "metadata": {
    "collapsed": true
   },
   "outputs": [],
   "source": [
    "def get_means(array):\n",
    "    \"\"\"Return arithmetic mean, geometric mean, harmonic mean and log means in a column array\"\"\"\n",
    "    #define function for arithmetic mean\n",
    "    a_mean=np.mean(array)\n",
    "    #define function for geometric mean\n",
    "    g_mean=scipy.stats.mstats.gmean(array,axis=0)\n",
    "    #define function for harmonic mean\n",
    "    h_mean=scipy.stats.mstats.hmean(array,axis=0)\n",
    "    #define function for log means\n",
    "    log_mean=np.log(array)\n",
    "    #stack the means in an array\n",
    "    mean_stack=np.hstack((a_mean,g_mean,h_mean))\n",
    "    #return the array\n",
    "    return(mean_stack)"
   ]
  },
  {
   "cell_type": "code",
   "execution_count": 16,
   "metadata": {
    "collapsed": true
   },
   "outputs": [],
   "source": [
    "def return_count(array, threshold):\n",
    "    \"\"\"Return the number of elements above the threshold in an array\"\"\"\n",
    "    #define function to count the number of elements above the threshold\n",
    "    count=0\n",
    "    for i in np.nditer(array):\n",
    "        if i>threshold:\n",
    "            count=count+1\n",
    "    #return the value\n",
    "    return(count)"
   ]
  },
  {
   "cell_type": "code",
   "execution_count": 4,
   "metadata": {
    "collapsed": true
   },
   "outputs": [],
   "source": [
    "def column_sum(array, column_no):\n",
    "    \"\"\"Return the sum of all the elements in a column of the array\"\"\"\n",
    "    #check if column exists in array, else return(np.nan)\n",
    "    if(np.isnan(array[:column_no])):\n",
    "        return(np.nan)\n",
    "    #define function to return the sum of elements in the given column\n",
    "    \n",
    "    #return the value\n",
    "    return(np.sum(array[column_no]))"
   ]
  },
  {
   "cell_type": "code",
   "execution_count": 5,
   "metadata": {},
   "outputs": [],
   "source": [
    "def row_sum(array, row_no):\n",
    "    \"\"\"Return the sum of all the elements in a row of the array\"\"\"\n",
    "    #check if row exists in array, else return(np.nan)\n",
    "    if(np.isnan(array[row_no:])):\n",
    "        return(np.nan)\n",
    "    #define function to return the sum of elements in the given row\n",
    "    \n",
    "    #return the value\n",
    "    return(np.sum(array[row_no]))"
   ]
  },
  {
   "cell_type": "code",
   "execution_count": 12,
   "metadata": {},
   "outputs": [],
   "source": [
    "def check_diag(array):\n",
    "    \"\"\"Return True if the matrix is diagonal\"\"\"\n",
    "    #define function to chweck if the matrix is diagonal\n",
    "    if (np.count_nonzero(array - np.diag(np.diag(array))))==0 :\n",
    "        return (True)\n",
    "        \n",
    "       \n",
    "    #return True/False\n",
    "    return(False)"
   ]
  },
  {
   "cell_type": "code",
   "execution_count": null,
   "metadata": {
    "collapsed": true
   },
   "outputs": [],
   "source": []
  }
 ],
 "metadata": {
  "kernelspec": {
   "display_name": "Python 3",
   "language": "python",
   "name": "python3"
  },
  "language_info": {
   "codemirror_mode": {
    "name": "ipython",
    "version": 3
   },
   "file_extension": ".py",
   "mimetype": "text/x-python",
   "name": "python",
   "nbconvert_exporter": "python",
   "pygments_lexer": "ipython3",
   "version": "3.6.3"
  }
 },
 "nbformat": 4,
 "nbformat_minor": 2
}
